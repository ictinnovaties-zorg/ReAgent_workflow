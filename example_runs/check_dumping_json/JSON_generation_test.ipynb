{
 "cells": [
  {
   "cell_type": "markdown",
   "metadata": {},
   "source": [
    "# Introduction\n",
    "In this experiment we test the json generation code that I just implemented. The goal is to:\n",
    "\n",
    "- Run a standard example run for ReAgent using ReAgent_workflow\n",
    "- Read the input json input pandas, regenerate the json for ReAgent, run the model again\n",
    "- Check if the model still runs successfully (should get score of 200)\n",
    "\n",
    "# Run vanilla model\n",
    "This went swimmingly, the run finished and show a score of 200. The run is in the `cart_pole_vanilla_run` directory. \n",
    "\n",
    "# Read jsonlines into pandas\n",
    "Now we read the jsonlines input data used for `cart_pole_vanilla_run` into pandas. We use the `jsonlines` package to get the json into Python. "
   ]
  },
  {
   "cell_type": "code",
   "execution_count": 2,
   "metadata": {},
   "outputs": [
    {
     "name": "stdout",
     "output_type": "stream",
     "text": [
      "/home/paul/reagent_experiments/02april2020_json_generation_test\n"
     ]
    }
   ],
   "source": [
    "import jsonlines\n",
    "import os\n",
    "import pandas as pd\n",
    "\n",
    "#with jsonlines.open('generated_cartpole_data.json') as reader:\n",
    "#    for obj in reader:\n",
    "#        print(obj)\n",
    "\n",
    "print(os.getcwd())\n",
    "json_data = [obj for obj in jsonlines.open('small_example_generated_json.json')]"
   ]
  },
  {
   "cell_type": "code",
   "execution_count": 3,
   "metadata": {},
   "outputs": [
    {
     "data": {
      "text/plain": [
       "{'ds': '2019-01-01',\n",
       " 'mdp_id': '0',\n",
       " 'sequence_number': 0,\n",
       " 'state_features': {'0': 0.008422686718404293,\n",
       "  '1': -0.042249470949172974,\n",
       "  '2': 0.02246319130063057,\n",
       "  '3': -0.020789798349142075},\n",
       " 'action': '1',\n",
       " 'reward': 1.0,\n",
       " 'action_probability': 0.975,\n",
       " 'possible_actions': ['0', '1'],\n",
       " 'metrics': {'reward': 1.0}}"
      ]
     },
     "execution_count": 3,
     "metadata": {},
     "output_type": "execute_result"
    }
   ],
   "source": [
    "json_data[0]"
   ]
  },
  {
   "cell_type": "markdown",
   "metadata": {},
   "source": [
    "Next we need to generate the appropriate Pandas DataFrame. First we make a DataFrame from the json data using `json_normalize`:"
   ]
  },
  {
   "cell_type": "code",
   "execution_count": 4,
   "metadata": {},
   "outputs": [
    {
     "data": {
      "text/html": [
       "<div>\n",
       "<style scoped>\n",
       "    .dataframe tbody tr th:only-of-type {\n",
       "        vertical-align: middle;\n",
       "    }\n",
       "\n",
       "    .dataframe tbody tr th {\n",
       "        vertical-align: top;\n",
       "    }\n",
       "\n",
       "    .dataframe thead th {\n",
       "        text-align: right;\n",
       "    }\n",
       "</style>\n",
       "<table border=\"1\" class=\"dataframe\">\n",
       "  <thead>\n",
       "    <tr style=\"text-align: right;\">\n",
       "      <th></th>\n",
       "      <th>ds</th>\n",
       "      <th>mdp_id</th>\n",
       "      <th>sequence_number</th>\n",
       "      <th>action</th>\n",
       "      <th>reward</th>\n",
       "      <th>action_probability</th>\n",
       "      <th>possible_actions</th>\n",
       "      <th>state_features.0</th>\n",
       "      <th>state_features.1</th>\n",
       "      <th>state_features.2</th>\n",
       "      <th>state_features.3</th>\n",
       "      <th>metrics.reward</th>\n",
       "    </tr>\n",
       "  </thead>\n",
       "  <tbody>\n",
       "    <tr>\n",
       "      <th>0</th>\n",
       "      <td>2019-01-01</td>\n",
       "      <td>0</td>\n",
       "      <td>0</td>\n",
       "      <td>1</td>\n",
       "      <td>1.0</td>\n",
       "      <td>0.975</td>\n",
       "      <td>[0, 1]</td>\n",
       "      <td>0.008423</td>\n",
       "      <td>-0.042249</td>\n",
       "      <td>0.022463</td>\n",
       "      <td>-0.020790</td>\n",
       "      <td>1.0</td>\n",
       "    </tr>\n",
       "    <tr>\n",
       "      <th>1</th>\n",
       "      <td>2019-01-01</td>\n",
       "      <td>0</td>\n",
       "      <td>1</td>\n",
       "      <td>1</td>\n",
       "      <td>1.0</td>\n",
       "      <td>0.975</td>\n",
       "      <td>[0, 1]</td>\n",
       "      <td>0.007578</td>\n",
       "      <td>0.152543</td>\n",
       "      <td>0.022047</td>\n",
       "      <td>-0.306302</td>\n",
       "      <td>1.0</td>\n",
       "    </tr>\n",
       "    <tr>\n",
       "      <th>2</th>\n",
       "      <td>2019-01-01</td>\n",
       "      <td>0</td>\n",
       "      <td>2</td>\n",
       "      <td>1</td>\n",
       "      <td>1.0</td>\n",
       "      <td>0.975</td>\n",
       "      <td>[0, 1]</td>\n",
       "      <td>0.010629</td>\n",
       "      <td>0.347344</td>\n",
       "      <td>0.015921</td>\n",
       "      <td>-0.591951</td>\n",
       "      <td>1.0</td>\n",
       "    </tr>\n",
       "    <tr>\n",
       "      <th>3</th>\n",
       "      <td>2019-01-01</td>\n",
       "      <td>0</td>\n",
       "      <td>3</td>\n",
       "      <td>0</td>\n",
       "      <td>1.0</td>\n",
       "      <td>0.025</td>\n",
       "      <td>[0, 1]</td>\n",
       "      <td>0.017575</td>\n",
       "      <td>0.542240</td>\n",
       "      <td>0.004082</td>\n",
       "      <td>-0.879576</td>\n",
       "      <td>1.0</td>\n",
       "    </tr>\n",
       "    <tr>\n",
       "      <th>4</th>\n",
       "      <td>2019-01-01</td>\n",
       "      <td>0</td>\n",
       "      <td>4</td>\n",
       "      <td>1</td>\n",
       "      <td>1.0</td>\n",
       "      <td>0.975</td>\n",
       "      <td>[0, 1]</td>\n",
       "      <td>0.028420</td>\n",
       "      <td>0.347062</td>\n",
       "      <td>-0.013509</td>\n",
       "      <td>-0.585612</td>\n",
       "      <td>1.0</td>\n",
       "    </tr>\n",
       "  </tbody>\n",
       "</table>\n",
       "</div>"
      ],
      "text/plain": [
       "           ds mdp_id  sequence_number action  reward  action_probability  \\\n",
       "0  2019-01-01      0                0      1     1.0               0.975   \n",
       "1  2019-01-01      0                1      1     1.0               0.975   \n",
       "2  2019-01-01      0                2      1     1.0               0.975   \n",
       "3  2019-01-01      0                3      0     1.0               0.025   \n",
       "4  2019-01-01      0                4      1     1.0               0.975   \n",
       "\n",
       "  possible_actions  state_features.0  state_features.1  state_features.2  \\\n",
       "0           [0, 1]          0.008423         -0.042249          0.022463   \n",
       "1           [0, 1]          0.007578          0.152543          0.022047   \n",
       "2           [0, 1]          0.010629          0.347344          0.015921   \n",
       "3           [0, 1]          0.017575          0.542240          0.004082   \n",
       "4           [0, 1]          0.028420          0.347062         -0.013509   \n",
       "\n",
       "   state_features.3  metrics.reward  \n",
       "0         -0.020790             1.0  \n",
       "1         -0.306302             1.0  \n",
       "2         -0.591951             1.0  \n",
       "3         -0.879576             1.0  \n",
       "4         -0.585612             1.0  "
      ]
     },
     "execution_count": 4,
     "metadata": {},
     "output_type": "execute_result"
    }
   ],
   "source": [
    "df = pd.json_normalize(json_data)\n",
    "df.head()"
   ]
  },
  {
   "cell_type": "markdown",
   "metadata": {},
   "source": [
    "A number of static stuff can be dropped from the dataframe:"
   ]
  },
  {
   "cell_type": "code",
   "execution_count": 5,
   "metadata": {},
   "outputs": [
    {
     "data": {
      "text/html": [
       "<div>\n",
       "<style scoped>\n",
       "    .dataframe tbody tr th:only-of-type {\n",
       "        vertical-align: middle;\n",
       "    }\n",
       "\n",
       "    .dataframe tbody tr th {\n",
       "        vertical-align: top;\n",
       "    }\n",
       "\n",
       "    .dataframe thead th {\n",
       "        text-align: right;\n",
       "    }\n",
       "</style>\n",
       "<table border=\"1\" class=\"dataframe\">\n",
       "  <thead>\n",
       "    <tr style=\"text-align: right;\">\n",
       "      <th></th>\n",
       "      <th>mdp_id</th>\n",
       "      <th>sequence_number</th>\n",
       "      <th>action</th>\n",
       "      <th>reward</th>\n",
       "      <th>state_features.0</th>\n",
       "      <th>state_features.1</th>\n",
       "      <th>state_features.2</th>\n",
       "      <th>state_features.3</th>\n",
       "    </tr>\n",
       "  </thead>\n",
       "  <tbody>\n",
       "    <tr>\n",
       "      <th>0</th>\n",
       "      <td>0</td>\n",
       "      <td>0</td>\n",
       "      <td>1</td>\n",
       "      <td>1.0</td>\n",
       "      <td>0.008423</td>\n",
       "      <td>-0.042249</td>\n",
       "      <td>0.022463</td>\n",
       "      <td>-0.020790</td>\n",
       "    </tr>\n",
       "    <tr>\n",
       "      <th>1</th>\n",
       "      <td>0</td>\n",
       "      <td>1</td>\n",
       "      <td>1</td>\n",
       "      <td>1.0</td>\n",
       "      <td>0.007578</td>\n",
       "      <td>0.152543</td>\n",
       "      <td>0.022047</td>\n",
       "      <td>-0.306302</td>\n",
       "    </tr>\n",
       "    <tr>\n",
       "      <th>2</th>\n",
       "      <td>0</td>\n",
       "      <td>2</td>\n",
       "      <td>1</td>\n",
       "      <td>1.0</td>\n",
       "      <td>0.010629</td>\n",
       "      <td>0.347344</td>\n",
       "      <td>0.015921</td>\n",
       "      <td>-0.591951</td>\n",
       "    </tr>\n",
       "    <tr>\n",
       "      <th>3</th>\n",
       "      <td>0</td>\n",
       "      <td>3</td>\n",
       "      <td>0</td>\n",
       "      <td>1.0</td>\n",
       "      <td>0.017575</td>\n",
       "      <td>0.542240</td>\n",
       "      <td>0.004082</td>\n",
       "      <td>-0.879576</td>\n",
       "    </tr>\n",
       "    <tr>\n",
       "      <th>4</th>\n",
       "      <td>0</td>\n",
       "      <td>4</td>\n",
       "      <td>1</td>\n",
       "      <td>1.0</td>\n",
       "      <td>0.028420</td>\n",
       "      <td>0.347062</td>\n",
       "      <td>-0.013509</td>\n",
       "      <td>-0.585612</td>\n",
       "    </tr>\n",
       "  </tbody>\n",
       "</table>\n",
       "</div>"
      ],
      "text/plain": [
       "  mdp_id  sequence_number action  reward  state_features.0  state_features.1  \\\n",
       "0      0                0      1     1.0          0.008423         -0.042249   \n",
       "1      0                1      1     1.0          0.007578          0.152543   \n",
       "2      0                2      1     1.0          0.010629          0.347344   \n",
       "3      0                3      0     1.0          0.017575          0.542240   \n",
       "4      0                4      1     1.0          0.028420          0.347062   \n",
       "\n",
       "   state_features.2  state_features.3  \n",
       "0          0.022463         -0.020790  \n",
       "1          0.022047         -0.306302  \n",
       "2          0.015921         -0.591951  \n",
       "3          0.004082         -0.879576  \n",
       "4         -0.013509         -0.585612  "
      ]
     },
     "execution_count": 5,
     "metadata": {},
     "output_type": "execute_result"
    }
   ],
   "source": [
    "# Note that metrics reward is autoset to reward\n",
    "df = df.drop(columns=['ds', 'action_probability', 'possible_actions', 'metrics.reward'])\n",
    "df.head()"
   ]
  },
  {
   "cell_type": "markdown",
   "metadata": {},
   "source": [
    "Next we need to rename some columns for the state features:"
   ]
  },
  {
   "cell_type": "code",
   "execution_count": 6,
   "metadata": {},
   "outputs": [
    {
     "data": {
      "text/html": [
       "<div>\n",
       "<style scoped>\n",
       "    .dataframe tbody tr th:only-of-type {\n",
       "        vertical-align: middle;\n",
       "    }\n",
       "\n",
       "    .dataframe tbody tr th {\n",
       "        vertical-align: top;\n",
       "    }\n",
       "\n",
       "    .dataframe thead th {\n",
       "        text-align: right;\n",
       "    }\n",
       "</style>\n",
       "<table border=\"1\" class=\"dataframe\">\n",
       "  <thead>\n",
       "    <tr style=\"text-align: right;\">\n",
       "      <th></th>\n",
       "      <th>mdp_id</th>\n",
       "      <th>sequence_number</th>\n",
       "      <th>action</th>\n",
       "      <th>reward</th>\n",
       "      <th>0</th>\n",
       "      <th>1</th>\n",
       "      <th>2</th>\n",
       "      <th>3</th>\n",
       "    </tr>\n",
       "  </thead>\n",
       "  <tbody>\n",
       "    <tr>\n",
       "      <th>0</th>\n",
       "      <td>0</td>\n",
       "      <td>0</td>\n",
       "      <td>1</td>\n",
       "      <td>1.0</td>\n",
       "      <td>0.008423</td>\n",
       "      <td>-0.042249</td>\n",
       "      <td>0.022463</td>\n",
       "      <td>-0.020790</td>\n",
       "    </tr>\n",
       "    <tr>\n",
       "      <th>1</th>\n",
       "      <td>0</td>\n",
       "      <td>1</td>\n",
       "      <td>1</td>\n",
       "      <td>1.0</td>\n",
       "      <td>0.007578</td>\n",
       "      <td>0.152543</td>\n",
       "      <td>0.022047</td>\n",
       "      <td>-0.306302</td>\n",
       "    </tr>\n",
       "    <tr>\n",
       "      <th>2</th>\n",
       "      <td>0</td>\n",
       "      <td>2</td>\n",
       "      <td>1</td>\n",
       "      <td>1.0</td>\n",
       "      <td>0.010629</td>\n",
       "      <td>0.347344</td>\n",
       "      <td>0.015921</td>\n",
       "      <td>-0.591951</td>\n",
       "    </tr>\n",
       "    <tr>\n",
       "      <th>3</th>\n",
       "      <td>0</td>\n",
       "      <td>3</td>\n",
       "      <td>0</td>\n",
       "      <td>1.0</td>\n",
       "      <td>0.017575</td>\n",
       "      <td>0.542240</td>\n",
       "      <td>0.004082</td>\n",
       "      <td>-0.879576</td>\n",
       "    </tr>\n",
       "    <tr>\n",
       "      <th>4</th>\n",
       "      <td>0</td>\n",
       "      <td>4</td>\n",
       "      <td>1</td>\n",
       "      <td>1.0</td>\n",
       "      <td>0.028420</td>\n",
       "      <td>0.347062</td>\n",
       "      <td>-0.013509</td>\n",
       "      <td>-0.585612</td>\n",
       "    </tr>\n",
       "  </tbody>\n",
       "</table>\n",
       "</div>"
      ],
      "text/plain": [
       "  mdp_id  sequence_number action  reward         0         1         2  \\\n",
       "0      0                0      1     1.0  0.008423 -0.042249  0.022463   \n",
       "1      0                1      1     1.0  0.007578  0.152543  0.022047   \n",
       "2      0                2      1     1.0  0.010629  0.347344  0.015921   \n",
       "3      0                3      0     1.0  0.017575  0.542240  0.004082   \n",
       "4      0                4      1     1.0  0.028420  0.347062 -0.013509   \n",
       "\n",
       "          3  \n",
       "0 -0.020790  \n",
       "1 -0.306302  \n",
       "2 -0.591951  \n",
       "3 -0.879576  \n",
       "4 -0.585612  "
      ]
     },
     "execution_count": 6,
     "metadata": {},
     "output_type": "execute_result"
    }
   ],
   "source": [
    "df = df.rename(columns={'state_features.0': '0', \n",
    "                   'state_features.1': '1',\n",
    "                   'state_features.2': '2',\n",
    "                   'state_features.3': '3'})\n",
    "df.head()"
   ]
  },
  {
   "cell_type": "markdown",
   "metadata": {},
   "source": [
    "Finally, we need to set the index:"
   ]
  },
  {
   "cell_type": "code",
   "execution_count": 7,
   "metadata": {},
   "outputs": [
    {
     "data": {
      "text/html": [
       "<div>\n",
       "<style scoped>\n",
       "    .dataframe tbody tr th:only-of-type {\n",
       "        vertical-align: middle;\n",
       "    }\n",
       "\n",
       "    .dataframe tbody tr th {\n",
       "        vertical-align: top;\n",
       "    }\n",
       "\n",
       "    .dataframe thead th {\n",
       "        text-align: right;\n",
       "    }\n",
       "</style>\n",
       "<table border=\"1\" class=\"dataframe\">\n",
       "  <thead>\n",
       "    <tr style=\"text-align: right;\">\n",
       "      <th></th>\n",
       "      <th></th>\n",
       "      <th></th>\n",
       "      <th></th>\n",
       "      <th>0</th>\n",
       "      <th>1</th>\n",
       "      <th>2</th>\n",
       "      <th>3</th>\n",
       "    </tr>\n",
       "    <tr>\n",
       "      <th>mdp_id</th>\n",
       "      <th>sequence_number</th>\n",
       "      <th>action</th>\n",
       "      <th>reward</th>\n",
       "      <th></th>\n",
       "      <th></th>\n",
       "      <th></th>\n",
       "      <th></th>\n",
       "    </tr>\n",
       "  </thead>\n",
       "  <tbody>\n",
       "    <tr>\n",
       "      <th rowspan=\"5\" valign=\"top\">0</th>\n",
       "      <th>0</th>\n",
       "      <th>1</th>\n",
       "      <th>1.0</th>\n",
       "      <td>0.008423</td>\n",
       "      <td>-0.042249</td>\n",
       "      <td>0.022463</td>\n",
       "      <td>-0.020790</td>\n",
       "    </tr>\n",
       "    <tr>\n",
       "      <th>1</th>\n",
       "      <th>1</th>\n",
       "      <th>1.0</th>\n",
       "      <td>0.007578</td>\n",
       "      <td>0.152543</td>\n",
       "      <td>0.022047</td>\n",
       "      <td>-0.306302</td>\n",
       "    </tr>\n",
       "    <tr>\n",
       "      <th>2</th>\n",
       "      <th>1</th>\n",
       "      <th>1.0</th>\n",
       "      <td>0.010629</td>\n",
       "      <td>0.347344</td>\n",
       "      <td>0.015921</td>\n",
       "      <td>-0.591951</td>\n",
       "    </tr>\n",
       "    <tr>\n",
       "      <th>3</th>\n",
       "      <th>0</th>\n",
       "      <th>1.0</th>\n",
       "      <td>0.017575</td>\n",
       "      <td>0.542240</td>\n",
       "      <td>0.004082</td>\n",
       "      <td>-0.879576</td>\n",
       "    </tr>\n",
       "    <tr>\n",
       "      <th>4</th>\n",
       "      <th>1</th>\n",
       "      <th>1.0</th>\n",
       "      <td>0.028420</td>\n",
       "      <td>0.347062</td>\n",
       "      <td>-0.013509</td>\n",
       "      <td>-0.585612</td>\n",
       "    </tr>\n",
       "  </tbody>\n",
       "</table>\n",
       "</div>"
      ],
      "text/plain": [
       "                                             0         1         2         3\n",
       "mdp_id sequence_number action reward                                        \n",
       "0      0               1      1.0     0.008423 -0.042249  0.022463 -0.020790\n",
       "       1               1      1.0     0.007578  0.152543  0.022047 -0.306302\n",
       "       2               1      1.0     0.010629  0.347344  0.015921 -0.591951\n",
       "       3               0      1.0     0.017575  0.542240  0.004082 -0.879576\n",
       "       4               1      1.0     0.028420  0.347062 -0.013509 -0.585612"
      ]
     },
     "execution_count": 7,
     "metadata": {},
     "output_type": "execute_result"
    }
   ],
   "source": [
    "df = df.set_index(['mdp_id', 'sequence_number', 'action', 'reward'])\n",
    "df.head()"
   ]
  },
  {
   "cell_type": "markdown",
   "metadata": {},
   "source": [
    "## Generate new json input data \n",
    "Now we have the correct DataFrame, we can start to generate new json output:"
   ]
  },
  {
   "cell_type": "code",
   "execution_count": 8,
   "metadata": {},
   "outputs": [
    {
     "name": "stdout",
     "output_type": "stream",
     "text": [
      "{\n",
      "  \"state_features\": {\n",
      "    \"0\": 0.010628562420606613,\n",
      "    \"1\": 0.34734421968460083,\n",
      "    \"2\": 0.01592136360704899,\n",
      "    \"3\": -0.591950535774231\n",
      "  },\n",
      "  \"ds\": \"2019-01-01\",\n",
      "  \"mdp_id\": \"0\",\n",
      "  \"sequence_number\": 2,\n",
      "  \"possible_actions\": [\n",
      "    \"0\",\n",
      "    \"1\"\n",
      "  ],\n",
      "  \"action\": \"1\",\n",
      "  \"reward\": 1.0,\n",
      "  \"metrics\": {\n",
      "    \"reward\": 1.0\n",
      "  },\n",
      "  \"action_probability\": 0.975\n",
      "}\n"
     ]
    }
   ],
   "source": [
    "from ReAgent_workflow.process_json import reagent_df_to_json_lines\n",
    "\n",
    "json_lines_input = reagent_df_to_json_lines(df, \n",
    "                         ds_value = '2019-01-01', \n",
    "                         mdp_id_var = 'mdp_id',\n",
    "                         sequence_number_var = 'sequence_number',\n",
    "                         possible_actions = ['0', '1'], \n",
    "                         action_var = 'action',\n",
    "                         reward_var = 'reward',\n",
    "                         action_probability = 0.975,\n",
    "                         progress=False,\n",
    "                         indent=2)\n",
    "print(json_lines_input[2])"
   ]
  },
  {
   "cell_type": "markdown",
   "metadata": {},
   "source": [
    "This compared to the reference from the documentation of ReAgent:\n",
    "\n",
    "    {\n",
    "        \"ds\": \"2019-01-01\",\n",
    "        \"mdp_id\": \"0\",\n",
    "        \"sequence_number\": 0,\n",
    "        \"state_features\": {\n",
    "            \"0\": -0.04456399381160736,\n",
    "            \"1\": 0.04653909429907799,\n",
    "            \"2\": 0.013269094750285149,\n",
    "            \"3\": -0.020998265594244003\n",
    "        },\n",
    "        \"action\": \"0\",\n",
    "        \"reward\": 1.0,\n",
    "        \"action_probability\": 0.975,\n",
    "        \"possible_actions\": [\n",
    "            \"0\",\n",
    "            \"1\"\n",
    "        ],\n",
    "        \"metrics\": {\n",
    "            \"reward\": 1.0\n",
    "        }\n",
    "    }\n",
    "   \n",
    "Two observations:\n",
    "\n",
    "- the order in which the variables are stored in the json structure is different.  This should not be a problem as I assume that ReAgent reads the data based on labels, not on position. \n",
    "- json.dumps adds a `\\` for each double quote. This is needed for valid json, but ReAgent skips this. This also should not pose a problem as the contents of the json structure is not different and is valid json.\n",
    "\n",
    "But the ultimate test will be to run ReAgent with the newly generated data. "
   ]
  },
  {
   "cell_type": "markdown",
   "metadata": {},
   "source": [
    "# Now for all data\n",
    "### Generate JSON"
   ]
  },
  {
   "cell_type": "code",
   "execution_count": 9,
   "metadata": {},
   "outputs": [
    {
     "name": "stdout",
     "output_type": "stream",
     "text": [
      "                                             0         1         2         3\n",
      "mdp_id sequence_number action reward                                        \n",
      "0      0               1      1.0     0.008423 -0.042249  0.022463 -0.020790\n",
      "       1               1      1.0     0.007578  0.152543  0.022047 -0.306302\n",
      "       2               1      1.0     0.010629  0.347344  0.015921 -0.591951\n",
      "       3               0      1.0     0.017575  0.542240  0.004082 -0.879576\n",
      "       4               1      1.0     0.028420  0.347062 -0.013509 -0.585612\n"
     ]
    }
   ],
   "source": [
    "json_data = [obj for obj in jsonlines.open('generated_cartpole_data.json')]\n",
    "df = pd.json_normalize(json_data)\n",
    "df = df.drop(columns=['ds', 'action_probability', 'possible_actions', 'metrics.reward'])\n",
    "df = df.rename(columns={'state_features.0': '0', \n",
    "                   'state_features.1': '1',\n",
    "                   'state_features.2': '2',\n",
    "                   'state_features.3': '3'})\n",
    "df = df.set_index(['mdp_id', 'sequence_number', 'action', 'reward'])\n",
    "print(df.head())\n",
    "json_lines_input = reagent_df_to_json_lines(df, \n",
    "                         ds_value = '2019-01-01', \n",
    "                         mdp_id_var = 'mdp_id',\n",
    "                         sequence_number_var = 'sequence_number',\n",
    "                         possible_actions = ['0', '1'], \n",
    "                         action_var = 'action',\n",
    "                         reward_var = 'reward',\n",
    "                         action_probability = 0.975,\n",
    "                         json_path='reagent_workflow_generated_cartpole_data.json')"
   ]
  },
  {
   "cell_type": "markdown",
   "metadata": {},
   "source": [
    "### Quick check, read the JSON"
   ]
  },
  {
   "cell_type": "code",
   "execution_count": 10,
   "metadata": {},
   "outputs": [
    {
     "data": {
      "text/plain": [
       "'2019-01-01'"
      ]
     },
     "execution_count": 10,
     "metadata": {},
     "output_type": "execute_result"
    }
   ],
   "source": [
    "json_data = [obj for obj in jsonlines.open('reagent_workflow_generated_cartpole_data.json')]\n",
    "json_data[0]['ds']"
   ]
  },
  {
   "cell_type": "code",
   "execution_count": 11,
   "metadata": {},
   "outputs": [
    {
     "name": "stdout",
     "output_type": "stream",
     "text": [
      "{\"state_features\": {\"0\": 0.008422686718404293, \"1\": -0.042249470949172974, \"2\": 0.02246319130063057, \"3\": -0.020789798349142075}, \"ds\": \"2019-01-01\", \"mdp_id\": \"0\", \"sequence_number\": 0, \"possible_actions\": [\"0\", \"1\"], \"action\": \"1\", \"reward\": 1.0, \"metrics\": {\"reward\": 1.0}, \"action_probability\": 0.975}\n",
      "\n"
     ]
    },
    {
     "data": {
      "text/plain": [
       "{'state_features': {'0': 0.017575446516275406,\n",
       "  '1': 0.5422396659851074,\n",
       "  '2': 0.004082352388650179,\n",
       "  '3': -0.8795760273933411},\n",
       " 'ds': '2019-01-01',\n",
       " 'mdp_id': '0',\n",
       " 'sequence_number': 3,\n",
       " 'possible_actions': ['0', '1'],\n",
       " 'action': '0',\n",
       " 'reward': 1.0,\n",
       " 'metrics': {'reward': 1.0},\n",
       " 'action_probability': 0.975}"
      ]
     },
     "execution_count": 11,
     "metadata": {},
     "output_type": "execute_result"
    }
   ],
   "source": [
    "import json\n",
    "\n",
    "# This code mimics the check code from ReAgent_workflow\n",
    "with open('reagent_workflow_generated_cartpole_data.json') as json_file:\n",
    "    print(next(json_file))\n",
    "    raw_training_first100 = [json.loads(next(json_file)) for line in range(100)]\n",
    "raw_training_first100[2]"
   ]
  },
  {
   "cell_type": "markdown",
   "metadata": {},
   "source": [
    "So far, so good. "
   ]
  },
  {
   "cell_type": "markdown",
   "metadata": {},
   "source": [
    "The final step is to run ReAgent with this newly generated data in `reagent_workflow_generated_cartpole_data.json`. "
   ]
  }
 ],
 "metadata": {
  "kernelspec": {
   "display_name": "Python 3",
   "language": "python",
   "name": "python3"
  },
  "language_info": {
   "codemirror_mode": {
    "name": "ipython",
    "version": 3
   },
   "file_extension": ".py",
   "mimetype": "text/x-python",
   "name": "python",
   "nbconvert_exporter": "python",
   "pygments_lexer": "ipython3",
   "version": "3.7.6"
  }
 },
 "nbformat": 4,
 "nbformat_minor": 4
}
